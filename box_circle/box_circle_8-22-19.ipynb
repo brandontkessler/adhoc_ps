{
 "cells": [
  {
   "cell_type": "markdown",
   "metadata": {},
   "source": [
    "# Description\n",
    "\n",
    "#### Box Circle - 8/22/2019\n",
    "\n",
    "BCC revenue for this current FY: One for membership donations (including new and renewals), the other for ticket sales please?\n",
    "\n",
    "Also could you find out what the “goal” (finger quotes) is? \n"
   ]
  },
  {
   "cell_type": "code",
   "execution_count": 1,
   "metadata": {},
   "outputs": [
    {
     "name": "stdout",
     "output_type": "stream",
     "text": [
      "Once deleted, variables cannot be recovered. Proceed (y/[n])? y\n"
     ]
    }
   ],
   "source": [
    "%reset"
   ]
  },
  {
   "cell_type": "code",
   "execution_count": 2,
   "metadata": {},
   "outputs": [],
   "source": [
    "import pandas as pd"
   ]
  },
  {
   "cell_type": "code",
   "execution_count": 3,
   "metadata": {},
   "outputs": [],
   "source": [
    "path_data = 'U:/data'"
   ]
  },
  {
   "cell_type": "markdown",
   "metadata": {},
   "source": [
    "# Globals"
   ]
  },
  {
   "cell_type": "code",
   "execution_count": 4,
   "metadata": {},
   "outputs": [],
   "source": [
    "FY_START = 20\n",
    "FY_END = 20"
   ]
  },
  {
   "cell_type": "code",
   "execution_count": 5,
   "metadata": {},
   "outputs": [],
   "source": [
    "d_files = 'donors_fy13-present.csv'"
   ]
  },
  {
   "cell_type": "code",
   "execution_count": 6,
   "metadata": {},
   "outputs": [],
   "source": [
    "def donor_data_import(path_to_data_files, file):\n",
    "    donor_raw = pd.read_csv(path_to_data_files + '/donors/' + file, encoding='ISO-8859-1')\n",
    "    return donor_raw"
   ]
  },
  {
   "cell_type": "code",
   "execution_count": 7,
   "metadata": {},
   "outputs": [],
   "source": [
    "d_data = donor_data_import(path_data, d_files)"
   ]
  },
  {
   "cell_type": "code",
   "execution_count": 8,
   "metadata": {},
   "outputs": [],
   "source": [
    "donor_fy = d_data.campaign.str[3:8] # parse last 5 characters of campaign column\n",
    "d_data['fy'] = donor_fy # append that to a column named 'fy'"
   ]
  },
  {
   "cell_type": "code",
   "execution_count": 9,
   "metadata": {},
   "outputs": [],
   "source": [
    "filter_fys = {fy: False for fy in d_data.fy.drop_duplicates()}\n",
    "for fy,boo in filter_fys.items():\n",
    "    try:\n",
    "        int(fy[0])\n",
    "        if int(fy[3:]) == FY_START:\n",
    "            filter_fys[fy] = True\n",
    "        else:\n",
    "            continue\n",
    "    except:\n",
    "        continue"
   ]
  },
  {
   "cell_type": "code",
   "execution_count": 10,
   "metadata": {},
   "outputs": [],
   "source": [
    "d_data['keep'] = d_data['fy'].map(filter_fys)\n",
    "donor_df = d_data.loc[d_data.keep].reset_index()\n",
    "donor_df.drop(columns=['keep'], inplace=True)"
   ]
  },
  {
   "cell_type": "code",
   "execution_count": 11,
   "metadata": {},
   "outputs": [
    {
     "data": {
      "text/plain": [
       "Index(['index', 'trn_count', 'contribution_amt', 'pledge', 'pledge_payment',\n",
       "       'gift', 'gift_plus_pledge', 'restricted', 'write_off', 'total_received',\n",
       "       'batch_no', 'ref_no', 'fund_no', 'fund_desc', 'fyear', 'campaign_no',\n",
       "       'campaign', 'cont_designation_id', 'cont_designation', 'channel_id',\n",
       "       'channel_desc', 'pmt_method_id', 'pmt_method', 'pledge_pmt_amt',\n",
       "       'gift_pmt_amt', 'pmt_count', 'customer_no', 'lname', 'fname',\n",
       "       'creditee_type', 'creditee_type_desc', 'creditee_no', 'creditee_name',\n",
       "       'resolved_cust_type', 'resolved_cust_id', 'resolved_cust_name',\n",
       "       'summary_cust_id', 'summary_cust_name', 'summary_sort', 'display_name',\n",
       "       'sort_name', 'cont_dt', 'cont_fy', 'cont_fy_month', 'cont_cy',\n",
       "       'cont_cy_month', 'trn_dt', 'trn_fy', 'trn_fy_month', 'trn_cy',\n",
       "       'trn_cy_month', 'posted_dt', 'post_fy', 'post_fy_month', 'post_cy',\n",
       "       'post_cy_month', 'ps_sol', 'res_ps_sol', 'sum_ps_sol', 'gl_no',\n",
       "       'gl_natural', 'gl_sub_dept', 'appeal', 'source_id', 'source_name',\n",
       "       'notes', 'fund_super_grp', 'fund_category', 'fund_sub_cate',\n",
       "       'fund_type', 'fund_flag_1', 'fund_flag_2', 'fund_flag_3', 'fund_flag_4',\n",
       "       'fund_flag_5', 'budget_this_yr', 'budget_last_yr', 'mgmt_this_yr',\n",
       "       'mgmt_last_yr', 'board_flag', 'vol_flag', 'sym100_flag', 'ps_tribute',\n",
       "       'ps_honorarium', 'fy'],\n",
       "      dtype='object')"
      ]
     },
     "execution_count": 11,
     "metadata": {},
     "output_type": "execute_result"
    }
   ],
   "source": [
    "donor_df.columns"
   ]
  },
  {
   "cell_type": "code",
   "execution_count": 12,
   "metadata": {},
   "outputs": [
    {
     "data": {
      "text/plain": [
       "0    PS 19-20 Capital Campaign\n",
       "1          PS 19-20 Box Circle\n",
       "2          PS 19-20 Box Circle\n",
       "3          PS 19-20 Box Circle\n",
       "4          PS 19-20 Box Circle\n",
       "Name: campaign, dtype: object"
      ]
     },
     "execution_count": 12,
     "metadata": {},
     "output_type": "execute_result"
    }
   ],
   "source": [
    "donor_df.campaign.head()"
   ]
  },
  {
   "cell_type": "code",
   "execution_count": 13,
   "metadata": {},
   "outputs": [],
   "source": [
    "bcc = donor_df.loc[donor_df['campaign'] == 'PS 19-20 Box Circle']"
   ]
  },
  {
   "cell_type": "code",
   "execution_count": 14,
   "metadata": {},
   "outputs": [
    {
     "data": {
      "text/html": [
       "<div>\n",
       "<style scoped>\n",
       "    .dataframe tbody tr th:only-of-type {\n",
       "        vertical-align: middle;\n",
       "    }\n",
       "\n",
       "    .dataframe tbody tr th {\n",
       "        vertical-align: top;\n",
       "    }\n",
       "\n",
       "    .dataframe thead tr th {\n",
       "        text-align: left;\n",
       "    }\n",
       "\n",
       "    .dataframe thead tr:last-of-type th {\n",
       "        text-align: right;\n",
       "    }\n",
       "</style>\n",
       "<table border=\"1\" class=\"dataframe\">\n",
       "  <thead>\n",
       "    <tr>\n",
       "      <th></th>\n",
       "      <th>campaign</th>\n",
       "      <th>gift</th>\n",
       "      <th>pledge</th>\n",
       "      <th>gift_plus_pledge</th>\n",
       "    </tr>\n",
       "    <tr>\n",
       "      <th></th>\n",
       "      <th>count</th>\n",
       "      <th>sum</th>\n",
       "      <th>sum</th>\n",
       "      <th>sum</th>\n",
       "    </tr>\n",
       "    <tr>\n",
       "      <th>campaign</th>\n",
       "      <th></th>\n",
       "      <th></th>\n",
       "      <th></th>\n",
       "      <th></th>\n",
       "    </tr>\n",
       "  </thead>\n",
       "  <tbody>\n",
       "    <tr>\n",
       "      <th>PS 19-20 Box Circle</th>\n",
       "      <td>295</td>\n",
       "      <td>101500.0</td>\n",
       "      <td>136625.0</td>\n",
       "      <td>238125.0</td>\n",
       "    </tr>\n",
       "  </tbody>\n",
       "</table>\n",
       "</div>"
      ],
      "text/plain": [
       "                    campaign      gift    pledge gift_plus_pledge\n",
       "                       count       sum       sum              sum\n",
       "campaign                                                         \n",
       "PS 19-20 Box Circle      295  101500.0  136625.0         238125.0"
      ]
     },
     "execution_count": 14,
     "metadata": {},
     "output_type": "execute_result"
    }
   ],
   "source": [
    "bcc.groupby(['campaign']).agg({\n",
    "    'campaign': ['count'],\n",
    "    'gift': ['sum'],\n",
    "    'pledge': ['sum'],\n",
    "    'gift_plus_pledge': ['sum']\n",
    "})"
   ]
  },
  {
   "cell_type": "code",
   "execution_count": 21,
   "metadata": {},
   "outputs": [],
   "source": [
    "bcc_20 = bcc['summary_cust_id'].drop_duplicates()"
   ]
  },
  {
   "cell_type": "code",
   "execution_count": 22,
   "metadata": {},
   "outputs": [
    {
     "data": {
      "text/plain": [
       "99"
      ]
     },
     "execution_count": 22,
     "metadata": {},
     "output_type": "execute_result"
    }
   ],
   "source": [
    "len(bcc_20)"
   ]
  },
  {
   "cell_type": "markdown",
   "metadata": {},
   "source": [
    "# Ticketing"
   ]
  },
  {
   "cell_type": "code",
   "execution_count": 26,
   "metadata": {},
   "outputs": [],
   "source": [
    "def ticketing_data_import(path_to_data_files, filename):\n",
    "    df = pd.read_csv(path_data + '/ticketing/' + filename, skiprows=3)\n",
    "    return df"
   ]
  },
  {
   "cell_type": "code",
   "execution_count": 29,
   "metadata": {},
   "outputs": [],
   "source": [
    "t_file = 'all_fy20_td.csv'"
   ]
  },
  {
   "cell_type": "code",
   "execution_count": 30,
   "metadata": {},
   "outputs": [],
   "source": [
    "t_df = ticketing_data_import(path_data, t_file)"
   ]
  },
  {
   "cell_type": "code",
   "execution_count": 33,
   "metadata": {},
   "outputs": [],
   "source": [
    "t_filtered = t_df[t_df['summary_cust_id'].isin(bcc_20)]"
   ]
  },
  {
   "cell_type": "code",
   "execution_count": 34,
   "metadata": {},
   "outputs": [
    {
     "data": {
      "text/plain": [
       "Index(['perf_code', 'perf_no', 'perf_dt', 'zone_no', 'zone_desc', 'section',\n",
       "       'row', 'seat', 'home_price', 'paid_amt', 'fee_amt', 'seat_status',\n",
       "       'seat_status_desc', 'customer_no', 'order_no', 'order_dt',\n",
       "       'price_type_group_id', 'price_type_group', 'pd_up', 'season',\n",
       "       'season_desc', 'summary_cust_id', 'summary_cust_name', 'attended'],\n",
       "      dtype='object')"
      ]
     },
     "execution_count": 34,
     "metadata": {},
     "output_type": "execute_result"
    }
   ],
   "source": [
    "t_filtered.columns"
   ]
  },
  {
   "cell_type": "code",
   "execution_count": 37,
   "metadata": {},
   "outputs": [
    {
     "data": {
      "text/html": [
       "<div>\n",
       "<style scoped>\n",
       "    .dataframe tbody tr th:only-of-type {\n",
       "        vertical-align: middle;\n",
       "    }\n",
       "\n",
       "    .dataframe tbody tr th {\n",
       "        vertical-align: top;\n",
       "    }\n",
       "\n",
       "    .dataframe thead tr th {\n",
       "        text-align: left;\n",
       "    }\n",
       "\n",
       "    .dataframe thead tr:last-of-type th {\n",
       "        text-align: right;\n",
       "    }\n",
       "</style>\n",
       "<table border=\"1\" class=\"dataframe\">\n",
       "  <thead>\n",
       "    <tr>\n",
       "      <th></th>\n",
       "      <th></th>\n",
       "      <th colspan=\"2\" halign=\"left\">paid_amt</th>\n",
       "    </tr>\n",
       "    <tr>\n",
       "      <th></th>\n",
       "      <th></th>\n",
       "      <th>count</th>\n",
       "      <th>sum</th>\n",
       "    </tr>\n",
       "    <tr>\n",
       "      <th>season_desc</th>\n",
       "      <th>price_type_group</th>\n",
       "      <th></th>\n",
       "      <th></th>\n",
       "    </tr>\n",
       "  </thead>\n",
       "  <tbody>\n",
       "    <tr>\n",
       "      <th>PS 19-20 Chamber</th>\n",
       "      <th>Subscription</th>\n",
       "      <td>18</td>\n",
       "      <td>1272.0</td>\n",
       "    </tr>\n",
       "    <tr>\n",
       "      <th rowspan=\"2\" valign=\"top\">PS 19-20 Classics</th>\n",
       "      <th>Single</th>\n",
       "      <td>21</td>\n",
       "      <td>2922.0</td>\n",
       "    </tr>\n",
       "    <tr>\n",
       "      <th>Subscription</th>\n",
       "      <td>1690</td>\n",
       "      <td>268566.0</td>\n",
       "    </tr>\n",
       "    <tr>\n",
       "      <th>PS 19-20 Connections</th>\n",
       "      <th>Subscription</th>\n",
       "      <td>16</td>\n",
       "      <td>1360.0</td>\n",
       "    </tr>\n",
       "    <tr>\n",
       "      <th>PS 19-20 Family</th>\n",
       "      <th>Subscription</th>\n",
       "      <td>90</td>\n",
       "      <td>3144.0</td>\n",
       "    </tr>\n",
       "    <tr>\n",
       "      <th rowspan=\"2\" valign=\"top\">PS 19-20 Organ</th>\n",
       "      <th>Comp</th>\n",
       "      <td>48</td>\n",
       "      <td>0.0</td>\n",
       "    </tr>\n",
       "    <tr>\n",
       "      <th>Subscription</th>\n",
       "      <td>6</td>\n",
       "      <td>310.0</td>\n",
       "    </tr>\n",
       "    <tr>\n",
       "      <th rowspan=\"3\" valign=\"top\">PS 19-20 Pops</th>\n",
       "      <th>Flex</th>\n",
       "      <td>8</td>\n",
       "      <td>1592.0</td>\n",
       "    </tr>\n",
       "    <tr>\n",
       "      <th>Single</th>\n",
       "      <td>28</td>\n",
       "      <td>4298.0</td>\n",
       "    </tr>\n",
       "    <tr>\n",
       "      <th>Subscription</th>\n",
       "      <td>540</td>\n",
       "      <td>101559.0</td>\n",
       "    </tr>\n",
       "    <tr>\n",
       "      <th rowspan=\"2\" valign=\"top\">PS 19-20 Specials</th>\n",
       "      <th>Comp</th>\n",
       "      <td>36</td>\n",
       "      <td>0.0</td>\n",
       "    </tr>\n",
       "    <tr>\n",
       "      <th>Single</th>\n",
       "      <td>39</td>\n",
       "      <td>6039.0</td>\n",
       "    </tr>\n",
       "    <tr>\n",
       "      <th rowspan=\"3\" valign=\"top\">PS 2019 Summer</th>\n",
       "      <th>Comp</th>\n",
       "      <td>34</td>\n",
       "      <td>0.0</td>\n",
       "    </tr>\n",
       "    <tr>\n",
       "      <th>Single</th>\n",
       "      <td>67</td>\n",
       "      <td>2862.0</td>\n",
       "    </tr>\n",
       "    <tr>\n",
       "      <th>Subscription</th>\n",
       "      <td>112</td>\n",
       "      <td>9716.0</td>\n",
       "    </tr>\n",
       "  </tbody>\n",
       "</table>\n",
       "</div>"
      ],
      "text/plain": [
       "                                      paid_amt          \n",
       "                                         count       sum\n",
       "season_desc          price_type_group                   \n",
       "PS 19-20 Chamber     Subscription           18    1272.0\n",
       "PS 19-20 Classics    Single                 21    2922.0\n",
       "                     Subscription         1690  268566.0\n",
       "PS 19-20 Connections Subscription           16    1360.0\n",
       "PS 19-20 Family      Subscription           90    3144.0\n",
       "PS 19-20 Organ       Comp                   48       0.0\n",
       "                     Subscription            6     310.0\n",
       "PS 19-20 Pops        Flex                    8    1592.0\n",
       "                     Single                 28    4298.0\n",
       "                     Subscription          540  101559.0\n",
       "PS 19-20 Specials    Comp                   36       0.0\n",
       "                     Single                 39    6039.0\n",
       "PS 2019 Summer       Comp                   34       0.0\n",
       "                     Single                 67    2862.0\n",
       "                     Subscription          112    9716.0"
      ]
     },
     "execution_count": 37,
     "metadata": {},
     "output_type": "execute_result"
    }
   ],
   "source": [
    "t_filtered.groupby(['season_desc', 'price_type_group']).agg({\n",
    "    'paid_amt': ['count', 'sum']\n",
    "})"
   ]
  },
  {
   "cell_type": "code",
   "execution_count": null,
   "metadata": {},
   "outputs": [],
   "source": []
  }
 ],
 "metadata": {
  "kernelspec": {
   "display_name": "Python 3",
   "language": "python",
   "name": "python3"
  },
  "language_info": {
   "codemirror_mode": {
    "name": "ipython",
    "version": 3
   },
   "file_extension": ".py",
   "mimetype": "text/x-python",
   "name": "python",
   "nbconvert_exporter": "python",
   "pygments_lexer": "ipython3",
   "version": "3.7.3"
  }
 },
 "nbformat": 4,
 "nbformat_minor": 2
}
